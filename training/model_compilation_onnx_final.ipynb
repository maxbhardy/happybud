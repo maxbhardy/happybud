{
 "cells": [
  {
   "cell_type": "markdown",
   "id": "18e0612d",
   "metadata": {},
   "source": [
    "# Compilation du modèle avec ONNX"
   ]
  },
  {
   "cell_type": "markdown",
   "id": "3fea666d",
   "metadata": {},
   "source": [
    "## 1 - Classes et fonctions"
   ]
  },
  {
   "cell_type": "code",
   "execution_count": 1,
   "id": "86d2de33",
   "metadata": {},
   "outputs": [],
   "source": [
    "import pathlib\n",
    "\n",
    "import torch\n",
    "import torchvision\n",
    "from collections import OrderedDict"
   ]
  },
  {
   "cell_type": "code",
   "execution_count": 2,
   "id": "859d6765",
   "metadata": {},
   "outputs": [
    {
     "name": "stdout",
     "output_type": "stream",
     "text": [
      "torch.Size([1, 3, 224, 224])\n"
     ]
    }
   ],
   "source": [
    "class ReshapeToBatchChannelFirst(torch.nn.Module):\n",
    "    def __init__(self):\n",
    "        super(ReshapeToBatchChannelFirst, self).__init__()\n",
    "\n",
    "    def forward(self, x):      \n",
    "        # Permute dimensions from (H, W, C) to (C, H, W) and keep first 3 channels\n",
    "        x = x.permute(2, 0, 1)[0:3]\n",
    "        \n",
    "        # Add a batch dimension at the beginning: (1, C, H, W)\n",
    "        x = x.unsqueeze(0)\n",
    "        return x\n",
    "\n",
    "# Example usage\n",
    "x = torch.rand(224, 224, 4)  # Example input\n",
    "layer = ReshapeToBatchChannelFirst()\n",
    "output = layer(x)\n",
    "print(output.shape)  # Expected: torch.Size([1, 3, 224, 224])"
   ]
  },
  {
   "cell_type": "code",
   "execution_count": 3,
   "id": "0653e97c",
   "metadata": {},
   "outputs": [
    {
     "name": "stdout",
     "output_type": "stream",
     "text": [
      "tensor([[[[-2.1115]],\n",
      "\n",
      "         [[-2.0275]],\n",
      "\n",
      "         [[-1.7896]]]])\n"
     ]
    }
   ],
   "source": [
    "class FixedNormLayer(torch.nn.Module):\n",
    "    def __init__(self, scale=torch.tensor([1 / 256]), mean=torch.tensor([0.485, 0.456, 0.406]), std=torch.tensor([0.229, 0.224, 0.225])):\n",
    "        \"\"\"\n",
    "        Args:\n",
    "            mean (torch.Tensor): Precomputed mean for normalization.\n",
    "            std (torch.Tensor): Precomputed standard deviation for normalization.\n",
    "        \"\"\"\n",
    "        super(FixedNormLayer, self).__init__()\n",
    "        self.register_buffer(\"mean\", mean[:, None, None])\n",
    "        self.register_buffer(\"std\", std[:, None, None])\n",
    "        self.register_buffer(\"scale\", scale)\n",
    "\n",
    "    def forward(self, x):\n",
    "        return (self.scale * x - self.mean) / self.std\n",
    "\n",
    "# Example usage\n",
    "layer = FixedNormLayer()\n",
    "\n",
    "# Test with a sample input\n",
    "x = torch.rand(1, 3, 1, 1)  # Example input\n",
    "output = layer(x)\n",
    "print(output)"
   ]
  },
  {
   "cell_type": "code",
   "execution_count": 4,
   "id": "7978b5ad",
   "metadata": {},
   "outputs": [],
   "source": [
    "class InferenceModelEncoder(torch.nn.Module):\n",
    "    def __init__(self, model, scale=torch.tensor([1 / 256]), mean=torch.tensor([0.485, 0.456, 0.406]), std=torch.tensor([0.229, 0.224, 0.225])):\n",
    "        super(InferenceModelEncoder, self).__init__()\n",
    "        self.preprocess = torch.nn.Sequential(\n",
    "            OrderedDict(\n",
    "                [\n",
    "                    (\"reshape\", ReshapeToBatchChannelFirst()),\n",
    "                    (\"normalize\", FixedNormLayer(scale, mean, std)),\n",
    "                ]\n",
    "            )\n",
    "        )\n",
    "        self.model = model  # The main model\n",
    "\n",
    "    def forward(self, x):\n",
    "        x = self.preprocess(x)  # Apply reshaping and normalization\n",
    "        x = self.model(x)  # Pass to the main model\n",
    "        return x"
   ]
  },
  {
   "cell_type": "code",
   "execution_count": 5,
   "id": "f41afaa7",
   "metadata": {},
   "outputs": [],
   "source": [
    "class InferenceModelDecoder(torch.nn.Module):\n",
    "    def __init__(self, model):\n",
    "        super(InferenceModelDecoder, self).__init__()\n",
    "        self.model = model  # The main model last layer\n",
    "        self.postprocess = torch.nn.Softmax(1)\n",
    "\n",
    "    def forward(self, x):\n",
    "        x = self.model(x)  # Pass to the main model\n",
    "        return self.postprocess(x)"
   ]
  },
  {
   "cell_type": "code",
   "execution_count": 6,
   "id": "e0553bd0",
   "metadata": {},
   "outputs": [],
   "source": [
    "import pathlib\n",
    "from onnxruntime.tools import convert_onnx_models_to_ort as convert_onnx\n",
    "\n",
    "def export_to_onnx(model, model_input, model_name, path=\".\", target_platform=\"arm\"):\n",
    "    path = pathlib.Path(path)\n",
    "\n",
    "    # Export to ONNX format\n",
    "    onnx_program = torch.onnx.export(model, model_input, dynamo=True)\n",
    "    onnx_program.save((path / model_name).with_suffix(\".onnx\"))\n",
    "\n",
    "    # Export to ORT format for mobile\n",
    "    convert_onnx.convert_onnx_models_to_ort(\n",
    "        (path / model_name).with_suffix(\".onnx\"),\n",
    "        output_dir=path,\n",
    "        optimization_styles=[convert_onnx.OptimizationStyle.Fixed],\n",
    "        target_platform=target_platform,\n",
    "    )"
   ]
  },
  {
   "cell_type": "code",
   "execution_count": 7,
   "id": "3ff56bb8",
   "metadata": {},
   "outputs": [],
   "source": [
    "import PIL\n",
    "import numpy as np\n",
    "\n",
    "def single_image_pipeline(image_path, dtype=\"float32\"):\n",
    "    # Load image into numpy float array\n",
    "    image = np.array(\n",
    "        PIL.Image.open(image_path).convert(\"RGB\").resize((224, 224)), dtype=dtype\n",
    "    )\n",
    "\n",
    "    return image"
   ]
  },
  {
   "cell_type": "markdown",
   "id": "b4bfad59",
   "metadata": {},
   "source": [
    "## 2 - Modèle généraliste (système encodeur-décodeur)"
   ]
  },
  {
   "cell_type": "markdown",
   "id": "979a523d",
   "metadata": {},
   "source": [
    "### 2.1 - Encodeur"
   ]
  },
  {
   "cell_type": "code",
   "execution_count": 12,
   "id": "85efceac",
   "metadata": {},
   "outputs": [
    {
     "data": {
      "text/plain": [
       "<All keys matched successfully>"
      ]
     },
     "execution_count": 12,
     "metadata": {},
     "output_type": "execute_result"
    }
   ],
   "source": [
    "# Load pretrained MobileNet_v3\n",
    "num_labels = 18\n",
    "\n",
    "model = torchvision.models.mobilenet_v3_large(weights=\"IMAGENET1K_V1\")  # Load a pretrained model\n",
    "model.classifier[3] = torch.nn.Linear(\n",
    "    model.classifier[3].in_features, num_labels\n",
    ")\n",
    "\n",
    "# Load parameters\n",
    "device = torch.device(\"cuda\" if torch.cuda.is_available() else \"cpu\")\n",
    "\n",
    "model.load_state_dict(\n",
    "    torch.load(\n",
    "        \"models/generalist_model_2025_03_27.pt\",\n",
    "        map_location=device,\n",
    "        weights_only=True,\n",
    "    )\n",
    ")"
   ]
  },
  {
   "cell_type": "code",
   "execution_count": 13,
   "id": "68f47f89",
   "metadata": {},
   "outputs": [
    {
     "data": {
      "text/plain": [
       "Sequential(\n",
       "  (0): Linear(in_features=960, out_features=1280, bias=True)\n",
       "  (1): Hardswish()\n",
       "  (2): Dropout(p=0.2, inplace=True)\n",
       "  (3): Linear(in_features=1280, out_features=18, bias=True)\n",
       ")"
      ]
     },
     "execution_count": 13,
     "metadata": {},
     "output_type": "execute_result"
    }
   ],
   "source": [
    "# Copy classifier and set model classifier to identity\n",
    "classifier = model.classifier\n",
    "\n",
    "# Set model classifier to identity\n",
    "model.classifier = torch.nn.Identity()\n",
    "\n",
    "classifier"
   ]
  },
  {
   "cell_type": "code",
   "execution_count": 14,
   "id": "d83ea6e1",
   "metadata": {},
   "outputs": [
    {
     "data": {
      "text/plain": [
       "InferenceModelDecoder(\n",
       "  (model): Sequential(\n",
       "    (0): Linear(in_features=960, out_features=1280, bias=True)\n",
       "    (1): Hardswish()\n",
       "    (2): Dropout(p=0.2, inplace=True)\n",
       "    (3): Linear(in_features=1280, out_features=18, bias=True)\n",
       "  )\n",
       "  (postprocess): Softmax(dim=1)\n",
       ")"
      ]
     },
     "execution_count": 14,
     "metadata": {},
     "output_type": "execute_result"
    }
   ],
   "source": [
    "# Define encoder and decoder inference models\n",
    "inference_model_encoder = InferenceModelEncoder(model)\n",
    "inference_model_decoder = InferenceModelDecoder(classifier)\n",
    "\n",
    "inference_model_encoder.eval()\n",
    "inference_model_decoder.eval()"
   ]
  },
  {
   "cell_type": "code",
   "execution_count": 15,
   "id": "47e1abec",
   "metadata": {},
   "outputs": [
    {
     "data": {
      "text/plain": [
       "tensor([[0.0008, 0.0079, 0.0053, 0.0028, 0.0109, 0.0021, 0.0067, 0.0031, 0.0018,\n",
       "         0.0063, 0.6355, 0.0387, 0.0087, 0.2508, 0.0058, 0.0103, 0.0010, 0.0015]],\n",
       "       grad_fn=<SoftmaxBackward0>)"
      ]
     },
     "execution_count": 15,
     "metadata": {},
     "output_type": "execute_result"
    }
   ],
   "source": [
    "# Test inference model encoder and decoder\n",
    "torch_input = torch.randn(224, 224, 4)\n",
    "\n",
    "encoded = inference_model_encoder(torch_input)\n",
    "decoded = inference_model_decoder(encoded)\n",
    "decoded"
   ]
  },
  {
   "cell_type": "code",
   "execution_count": 28,
   "id": "6500bdc0",
   "metadata": {},
   "outputs": [
    {
     "name": "stdout",
     "output_type": "stream",
     "text": [
      "[torch.onnx] Obtain model graph for `InferenceModelEncoder([...]` with `torch.export.export`...\n",
      "[torch.onnx] Obtain model graph for `InferenceModelEncoder([...]` with `torch.export.export`... ✅\n",
      "[torch.onnx] Translate the graph into ONNX...\n",
      "[torch.onnx] Translate the graph into ONNX... ✅\n",
      "Converting models with optimization style 'Fixed' and level 'all'\n",
      "Converting optimized ONNX model /home/maxime/Documents/Code/happybud/training/onnx_models/generalist_model_2025_03_27_encoder.onnx to ORT format model /home/maxime/Documents/Code/happybud/training/onnx_models/generalist_model_2025_03_27_encoder.ort\n"
     ]
    },
    {
     "name": "stderr",
     "output_type": "stream",
     "text": [
      "\u001b[0;93m2025-04-17 12:32:43.274732504 [W:onnxruntime:, graph.cc:109 MergeShapeInfo] Error merging shape info for output. '_native_batch_norm_legit_no_training__1' source:{16} target:{0}. Falling back to lenient merge.\u001b[m\n",
      "\u001b[0;93m2025-04-17 12:32:43.274912095 [W:onnxruntime:, graph.cc:109 MergeShapeInfo] Error merging shape info for output. '_native_batch_norm_legit_no_training__2' source:{16} target:{0}. Falling back to lenient merge.\u001b[m\n",
      "\u001b[0;93m2025-04-17 12:32:43.276012540 [W:onnxruntime:, graph.cc:109 MergeShapeInfo] Error merging shape info for output. '_native_batch_norm_legit_no_training_1__1' source:{16} target:{0}. Falling back to lenient merge.\u001b[m\n",
      "\u001b[0;93m2025-04-17 12:32:43.276130035 [W:onnxruntime:, graph.cc:109 MergeShapeInfo] Error merging shape info for output. '_native_batch_norm_legit_no_training_1__2' source:{16} target:{0}. Falling back to lenient merge.\u001b[m\n",
      "\u001b[0;93m2025-04-17 12:32:43.277082648 [W:onnxruntime:, graph.cc:109 MergeShapeInfo] Error merging shape info for output. '_native_batch_norm_legit_no_training_2__1' source:{16} target:{0}. Falling back to lenient merge.\u001b[m\n",
      "\u001b[0;93m2025-04-17 12:32:43.277098509 [W:onnxruntime:, graph.cc:109 MergeShapeInfo] Error merging shape info for output. '_native_batch_norm_legit_no_training_2__2' source:{16} target:{0}. Falling back to lenient merge.\u001b[m\n",
      "\u001b[0;93m2025-04-17 12:32:43.277280744 [W:onnxruntime:, graph.cc:109 MergeShapeInfo] Error merging shape info for output. '_native_batch_norm_legit_no_training_3__1' source:{64} target:{0}. Falling back to lenient merge.\u001b[m\n",
      "\u001b[0;93m2025-04-17 12:32:43.277305398 [W:onnxruntime:, graph.cc:109 MergeShapeInfo] Error merging shape info for output. '_native_batch_norm_legit_no_training_3__2' source:{64} target:{0}. Falling back to lenient merge.\u001b[m\n",
      "\u001b[0;93m2025-04-17 12:32:43.277476184 [W:onnxruntime:, graph.cc:109 MergeShapeInfo] Error merging shape info for output. '_native_batch_norm_legit_no_training_4__1' source:{64} target:{0}. Falling back to lenient merge.\u001b[m\n",
      "\u001b[0;93m2025-04-17 12:32:43.277489560 [W:onnxruntime:, graph.cc:109 MergeShapeInfo] Error merging shape info for output. '_native_batch_norm_legit_no_training_4__2' source:{64} target:{0}. Falling back to lenient merge.\u001b[m\n",
      "\u001b[0;93m2025-04-17 12:32:43.277615673 [W:onnxruntime:, graph.cc:109 MergeShapeInfo] Error merging shape info for output. '_native_batch_norm_legit_no_training_5__1' source:{24} target:{0}. Falling back to lenient merge.\u001b[m\n",
      "\u001b[0;93m2025-04-17 12:32:43.277626782 [W:onnxruntime:, graph.cc:109 MergeShapeInfo] Error merging shape info for output. '_native_batch_norm_legit_no_training_5__2' source:{24} target:{0}. Falling back to lenient merge.\u001b[m\n",
      "\u001b[0;93m2025-04-17 12:32:43.277727962 [W:onnxruntime:, graph.cc:109 MergeShapeInfo] Error merging shape info for output. '_native_batch_norm_legit_no_training_6__1' source:{72} target:{0}. Falling back to lenient merge.\u001b[m\n",
      "\u001b[0;93m2025-04-17 12:32:43.277739632 [W:onnxruntime:, graph.cc:109 MergeShapeInfo] Error merging shape info for output. '_native_batch_norm_legit_no_training_6__2' source:{72} target:{0}. Falling back to lenient merge.\u001b[m\n",
      "\u001b[0;93m2025-04-17 12:32:43.277845746 [W:onnxruntime:, graph.cc:109 MergeShapeInfo] Error merging shape info for output. '_native_batch_norm_legit_no_training_7__1' source:{72} target:{0}. Falling back to lenient merge.\u001b[m\n",
      "\u001b[0;93m2025-04-17 12:32:43.277857148 [W:onnxruntime:, graph.cc:109 MergeShapeInfo] Error merging shape info for output. '_native_batch_norm_legit_no_training_7__2' source:{72} target:{0}. Falling back to lenient merge.\u001b[m\n",
      "\u001b[0;93m2025-04-17 12:32:43.277956942 [W:onnxruntime:, graph.cc:109 MergeShapeInfo] Error merging shape info for output. '_native_batch_norm_legit_no_training_8__1' source:{24} target:{0}. Falling back to lenient merge.\u001b[m\n",
      "\u001b[0;93m2025-04-17 12:32:43.277967939 [W:onnxruntime:, graph.cc:109 MergeShapeInfo] Error merging shape info for output. '_native_batch_norm_legit_no_training_8__2' source:{24} target:{0}. Falling back to lenient merge.\u001b[m\n",
      "\u001b[0;93m2025-04-17 12:32:43.278070835 [W:onnxruntime:, graph.cc:109 MergeShapeInfo] Error merging shape info for output. '_native_batch_norm_legit_no_training_9__1' source:{72} target:{0}. Falling back to lenient merge.\u001b[m\n",
      "\u001b[0;93m2025-04-17 12:32:43.278082217 [W:onnxruntime:, graph.cc:109 MergeShapeInfo] Error merging shape info for output. '_native_batch_norm_legit_no_training_9__2' source:{72} target:{0}. Falling back to lenient merge.\u001b[m\n",
      "\u001b[0;93m2025-04-17 12:32:43.278225949 [W:onnxruntime:, graph.cc:109 MergeShapeInfo] Error merging shape info for output. '_native_batch_norm_legit_no_training_10__1' source:{72} target:{0}. Falling back to lenient merge.\u001b[m\n",
      "\u001b[0;93m2025-04-17 12:32:43.278241070 [W:onnxruntime:, graph.cc:109 MergeShapeInfo] Error merging shape info for output. '_native_batch_norm_legit_no_training_10__2' source:{72} target:{0}. Falling back to lenient merge.\u001b[m\n",
      "\u001b[0;93m2025-04-17 12:32:43.279159501 [W:onnxruntime:, graph.cc:109 MergeShapeInfo] Error merging shape info for output. '_native_batch_norm_legit_no_training_11__1' source:{40} target:{0}. Falling back to lenient merge.\u001b[m\n",
      "\u001b[0;93m2025-04-17 12:32:43.279324965 [W:onnxruntime:, graph.cc:109 MergeShapeInfo] Error merging shape info for output. '_native_batch_norm_legit_no_training_11__2' source:{40} target:{0}. Falling back to lenient merge.\u001b[m\n",
      "\u001b[0;93m2025-04-17 12:32:43.280133583 [W:onnxruntime:, graph.cc:109 MergeShapeInfo] Error merging shape info for output. '_native_batch_norm_legit_no_training_12__1' source:{120} target:{0}. Falling back to lenient merge.\u001b[m\n",
      "\u001b[0;93m2025-04-17 12:32:43.280288098 [W:onnxruntime:, graph.cc:109 MergeShapeInfo] Error merging shape info for output. '_native_batch_norm_legit_no_training_12__2' source:{120} target:{0}. Falling back to lenient merge.\u001b[m\n",
      "\u001b[0;93m2025-04-17 12:32:43.281135424 [W:onnxruntime:, graph.cc:109 MergeShapeInfo] Error merging shape info for output. '_native_batch_norm_legit_no_training_13__1' source:{120} target:{0}. Falling back to lenient merge.\u001b[m\n",
      "\u001b[0;93m2025-04-17 12:32:43.281291238 [W:onnxruntime:, graph.cc:109 MergeShapeInfo] Error merging shape info for output. '_native_batch_norm_legit_no_training_13__2' source:{120} target:{0}. Falling back to lenient merge.\u001b[m\n",
      "\u001b[0;93m2025-04-17 12:32:43.282545937 [W:onnxruntime:, graph.cc:109 MergeShapeInfo] Error merging shape info for output. '_native_batch_norm_legit_no_training_14__1' source:{40} target:{0}. Falling back to lenient merge.\u001b[m\n",
      "\u001b[0;93m2025-04-17 12:32:43.282663462 [W:onnxruntime:, graph.cc:109 MergeShapeInfo] Error merging shape info for output. '_native_batch_norm_legit_no_training_14__2' source:{40} target:{0}. Falling back to lenient merge.\u001b[m\n",
      "\u001b[0;93m2025-04-17 12:32:43.283589420 [W:onnxruntime:, graph.cc:109 MergeShapeInfo] Error merging shape info for output. '_native_batch_norm_legit_no_training_15__1' source:{120} target:{0}. Falling back to lenient merge.\u001b[m\n",
      "\u001b[0;93m2025-04-17 12:32:43.283689603 [W:onnxruntime:, graph.cc:109 MergeShapeInfo] Error merging shape info for output. '_native_batch_norm_legit_no_training_15__2' source:{120} target:{0}. Falling back to lenient merge.\u001b[m\n",
      "\u001b[0;93m2025-04-17 12:32:43.284583969 [W:onnxruntime:, graph.cc:109 MergeShapeInfo] Error merging shape info for output. '_native_batch_norm_legit_no_training_16__1' source:{120} target:{0}. Falling back to lenient merge.\u001b[m\n",
      "\u001b[0;93m2025-04-17 12:32:43.284681536 [W:onnxruntime:, graph.cc:109 MergeShapeInfo] Error merging shape info for output. '_native_batch_norm_legit_no_training_16__2' source:{120} target:{0}. Falling back to lenient merge.\u001b[m\n",
      "\u001b[0;93m2025-04-17 12:32:43.285975667 [W:onnxruntime:, graph.cc:109 MergeShapeInfo] Error merging shape info for output. '_native_batch_norm_legit_no_training_17__1' source:{40} target:{0}. Falling back to lenient merge.\u001b[m\n",
      "\u001b[0;93m2025-04-17 12:32:43.286080403 [W:onnxruntime:, graph.cc:109 MergeShapeInfo] Error merging shape info for output. '_native_batch_norm_legit_no_training_17__2' source:{40} target:{0}. Falling back to lenient merge.\u001b[m\n",
      "\u001b[0;93m2025-04-17 12:32:43.286993312 [W:onnxruntime:, graph.cc:109 MergeShapeInfo] Error merging shape info for output. '_native_batch_norm_legit_no_training_18__1' source:{240} target:{0}. Falling back to lenient merge.\u001b[m\n",
      "\u001b[0;93m2025-04-17 12:32:43.287091591 [W:onnxruntime:, graph.cc:109 MergeShapeInfo] Error merging shape info for output. '_native_batch_norm_legit_no_training_18__2' source:{240} target:{0}. Falling back to lenient merge.\u001b[m\n",
      "\u001b[0;93m2025-04-17 12:32:43.288267348 [W:onnxruntime:, graph.cc:109 MergeShapeInfo] Error merging shape info for output. '_native_batch_norm_legit_no_training_19__1' source:{240} target:{0}. Falling back to lenient merge.\u001b[m\n",
      "\u001b[0;93m2025-04-17 12:32:43.288377632 [W:onnxruntime:, graph.cc:109 MergeShapeInfo] Error merging shape info for output. '_native_batch_norm_legit_no_training_19__2' source:{240} target:{0}. Falling back to lenient merge.\u001b[m\n",
      "\u001b[0;93m2025-04-17 12:32:43.289302740 [W:onnxruntime:, graph.cc:109 MergeShapeInfo] Error merging shape info for output. '_native_batch_norm_legit_no_training_20__1' source:{80} target:{0}. Falling back to lenient merge.\u001b[m\n",
      "\u001b[0;93m2025-04-17 12:32:43.289406116 [W:onnxruntime:, graph.cc:109 MergeShapeInfo] Error merging shape info for output. '_native_batch_norm_legit_no_training_20__2' source:{80} target:{0}. Falling back to lenient merge.\u001b[m\n",
      "\u001b[0;93m2025-04-17 12:32:43.290193207 [W:onnxruntime:, graph.cc:109 MergeShapeInfo] Error merging shape info for output. '_native_batch_norm_legit_no_training_21__1' source:{200} target:{0}. Falling back to lenient merge.\u001b[m\n",
      "\u001b[0;93m2025-04-17 12:32:43.290345038 [W:onnxruntime:, graph.cc:109 MergeShapeInfo] Error merging shape info for output. '_native_batch_norm_legit_no_training_21__2' source:{200} target:{0}. Falling back to lenient merge.\u001b[m\n",
      "\u001b[0;93m2025-04-17 12:32:43.291205754 [W:onnxruntime:, graph.cc:109 MergeShapeInfo] Error merging shape info for output. '_native_batch_norm_legit_no_training_22__1' source:{200} target:{0}. Falling back to lenient merge.\u001b[m\n",
      "\u001b[0;93m2025-04-17 12:32:43.291372745 [W:onnxruntime:, graph.cc:109 MergeShapeInfo] Error merging shape info for output. '_native_batch_norm_legit_no_training_22__2' source:{200} target:{0}. Falling back to lenient merge.\u001b[m\n",
      "\u001b[0;93m2025-04-17 12:32:43.292342566 [W:onnxruntime:, graph.cc:109 MergeShapeInfo] Error merging shape info for output. '_native_batch_norm_legit_no_training_23__1' source:{80} target:{0}. Falling back to lenient merge.\u001b[m\n",
      "\u001b[0;93m2025-04-17 12:32:43.292449869 [W:onnxruntime:, graph.cc:109 MergeShapeInfo] Error merging shape info for output. '_native_batch_norm_legit_no_training_23__2' source:{80} target:{0}. Falling back to lenient merge.\u001b[m\n",
      "\u001b[0;93m2025-04-17 12:32:43.293384779 [W:onnxruntime:, graph.cc:109 MergeShapeInfo] Error merging shape info for output. '_native_batch_norm_legit_no_training_24__1' source:{184} target:{0}. Falling back to lenient merge.\u001b[m\n",
      "\u001b[0;93m2025-04-17 12:32:43.293487560 [W:onnxruntime:, graph.cc:109 MergeShapeInfo] Error merging shape info for output. '_native_batch_norm_legit_no_training_24__2' source:{184} target:{0}. Falling back to lenient merge.\u001b[m\n",
      "\u001b[0;93m2025-04-17 12:32:43.293679123 [W:onnxruntime:, graph.cc:109 MergeShapeInfo] Error merging shape info for output. '_native_batch_norm_legit_no_training_25__1' source:{184} target:{0}. Falling back to lenient merge.\u001b[m\n",
      "\u001b[0;93m2025-04-17 12:32:43.293692518 [W:onnxruntime:, graph.cc:109 MergeShapeInfo] Error merging shape info for output. '_native_batch_norm_legit_no_training_25__2' source:{184} target:{0}. Falling back to lenient merge.\u001b[m\n",
      "\u001b[0;93m2025-04-17 12:32:43.293839693 [W:onnxruntime:, graph.cc:109 MergeShapeInfo] Error merging shape info for output. '_native_batch_norm_legit_no_training_26__1' source:{80} target:{0}. Falling back to lenient merge.\u001b[m\n",
      "\u001b[0;93m2025-04-17 12:32:43.293855460 [W:onnxruntime:, graph.cc:109 MergeShapeInfo] Error merging shape info for output. '_native_batch_norm_legit_no_training_26__2' source:{80} target:{0}. Falling back to lenient merge.\u001b[m\n",
      "\u001b[0;93m2025-04-17 12:32:43.294015012 [W:onnxruntime:, graph.cc:109 MergeShapeInfo] Error merging shape info for output. '_native_batch_norm_legit_no_training_27__1' source:{184} target:{0}. Falling back to lenient merge.\u001b[m\n",
      "\u001b[0;93m2025-04-17 12:32:43.294028948 [W:onnxruntime:, graph.cc:109 MergeShapeInfo] Error merging shape info for output. '_native_batch_norm_legit_no_training_27__2' source:{184} target:{0}. Falling back to lenient merge.\u001b[m\n",
      "\u001b[0;93m2025-04-17 12:32:43.294159089 [W:onnxruntime:, graph.cc:109 MergeShapeInfo] Error merging shape info for output. '_native_batch_norm_legit_no_training_28__1' source:{184} target:{0}. Falling back to lenient merge.\u001b[m\n",
      "\u001b[0;93m2025-04-17 12:32:43.294170418 [W:onnxruntime:, graph.cc:109 MergeShapeInfo] Error merging shape info for output. '_native_batch_norm_legit_no_training_28__2' source:{184} target:{0}. Falling back to lenient merge.\u001b[m\n",
      "\u001b[0;93m2025-04-17 12:32:43.294286187 [W:onnxruntime:, graph.cc:109 MergeShapeInfo] Error merging shape info for output. '_native_batch_norm_legit_no_training_29__1' source:{80} target:{0}. Falling back to lenient merge.\u001b[m\n",
      "\u001b[0;93m2025-04-17 12:32:43.294298195 [W:onnxruntime:, graph.cc:109 MergeShapeInfo] Error merging shape info for output. '_native_batch_norm_legit_no_training_29__2' source:{80} target:{0}. Falling back to lenient merge.\u001b[m\n",
      "\u001b[0;93m2025-04-17 12:32:43.294422691 [W:onnxruntime:, graph.cc:109 MergeShapeInfo] Error merging shape info for output. '_native_batch_norm_legit_no_training_30__1' source:{480} target:{0}. Falling back to lenient merge.\u001b[m\n",
      "\u001b[0;93m2025-04-17 12:32:43.294435970 [W:onnxruntime:, graph.cc:109 MergeShapeInfo] Error merging shape info for output. '_native_batch_norm_legit_no_training_30__2' source:{480} target:{0}. Falling back to lenient merge.\u001b[m\n",
      "\u001b[0;93m2025-04-17 12:32:43.294569107 [W:onnxruntime:, graph.cc:109 MergeShapeInfo] Error merging shape info for output. '_native_batch_norm_legit_no_training_31__1' source:{480} target:{0}. Falling back to lenient merge.\u001b[m\n",
      "\u001b[0;93m2025-04-17 12:32:43.294583402 [W:onnxruntime:, graph.cc:109 MergeShapeInfo] Error merging shape info for output. '_native_batch_norm_legit_no_training_31__2' source:{480} target:{0}. Falling back to lenient merge.\u001b[m\n",
      "\u001b[0;93m2025-04-17 12:32:43.294797628 [W:onnxruntime:, graph.cc:109 MergeShapeInfo] Error merging shape info for output. '_native_batch_norm_legit_no_training_32__1' source:{112} target:{0}. Falling back to lenient merge.\u001b[m\n",
      "\u001b[0;93m2025-04-17 12:32:43.294815641 [W:onnxruntime:, graph.cc:109 MergeShapeInfo] Error merging shape info for output. '_native_batch_norm_legit_no_training_32__2' source:{112} target:{0}. Falling back to lenient merge.\u001b[m\n",
      "\u001b[0;93m2025-04-17 12:32:43.294953565 [W:onnxruntime:, graph.cc:109 MergeShapeInfo] Error merging shape info for output. '_native_batch_norm_legit_no_training_33__1' source:{672} target:{0}. Falling back to lenient merge.\u001b[m\n",
      "\u001b[0;93m2025-04-17 12:32:43.294968100 [W:onnxruntime:, graph.cc:109 MergeShapeInfo] Error merging shape info for output. '_native_batch_norm_legit_no_training_33__2' source:{672} target:{0}. Falling back to lenient merge.\u001b[m\n",
      "\u001b[0;93m2025-04-17 12:32:43.295104066 [W:onnxruntime:, graph.cc:109 MergeShapeInfo] Error merging shape info for output. '_native_batch_norm_legit_no_training_34__1' source:{672} target:{0}. Falling back to lenient merge.\u001b[m\n",
      "\u001b[0;93m2025-04-17 12:32:43.295116963 [W:onnxruntime:, graph.cc:109 MergeShapeInfo] Error merging shape info for output. '_native_batch_norm_legit_no_training_34__2' source:{672} target:{0}. Falling back to lenient merge.\u001b[m\n",
      "\u001b[0;93m2025-04-17 12:32:43.295326712 [W:onnxruntime:, graph.cc:109 MergeShapeInfo] Error merging shape info for output. '_native_batch_norm_legit_no_training_35__1' source:{112} target:{0}. Falling back to lenient merge.\u001b[m\n",
      "\u001b[0;93m2025-04-17 12:32:43.295341729 [W:onnxruntime:, graph.cc:109 MergeShapeInfo] Error merging shape info for output. '_native_batch_norm_legit_no_training_35__2' source:{112} target:{0}. Falling back to lenient merge.\u001b[m\n",
      "\u001b[0;93m2025-04-17 12:32:43.295459556 [W:onnxruntime:, graph.cc:109 MergeShapeInfo] Error merging shape info for output. '_native_batch_norm_legit_no_training_36__1' source:{672} target:{0}. Falling back to lenient merge.\u001b[m\n",
      "\u001b[0;93m2025-04-17 12:32:43.295472189 [W:onnxruntime:, graph.cc:109 MergeShapeInfo] Error merging shape info for output. '_native_batch_norm_legit_no_training_36__2' source:{672} target:{0}. Falling back to lenient merge.\u001b[m\n",
      "\u001b[0;93m2025-04-17 12:32:43.295594136 [W:onnxruntime:, graph.cc:109 MergeShapeInfo] Error merging shape info for output. '_native_batch_norm_legit_no_training_37__1' source:{672} target:{0}. Falling back to lenient merge.\u001b[m\n",
      "\u001b[0;93m2025-04-17 12:32:43.295606712 [W:onnxruntime:, graph.cc:109 MergeShapeInfo] Error merging shape info for output. '_native_batch_norm_legit_no_training_37__2' source:{672} target:{0}. Falling back to lenient merge.\u001b[m\n",
      "\u001b[0;93m2025-04-17 12:32:43.295783644 [W:onnxruntime:, graph.cc:109 MergeShapeInfo] Error merging shape info for output. '_native_batch_norm_legit_no_training_38__1' source:{160} target:{0}. Falling back to lenient merge.\u001b[m\n",
      "\u001b[0;93m2025-04-17 12:32:43.295797055 [W:onnxruntime:, graph.cc:109 MergeShapeInfo] Error merging shape info for output. '_native_batch_norm_legit_no_training_38__2' source:{160} target:{0}. Falling back to lenient merge.\u001b[m\n",
      "\u001b[0;93m2025-04-17 12:32:43.295910091 [W:onnxruntime:, graph.cc:109 MergeShapeInfo] Error merging shape info for output. '_native_batch_norm_legit_no_training_39__1' source:{960} target:{0}. Falling back to lenient merge.\u001b[m\n",
      "\u001b[0;93m2025-04-17 12:32:43.295922207 [W:onnxruntime:, graph.cc:109 MergeShapeInfo] Error merging shape info for output. '_native_batch_norm_legit_no_training_39__2' source:{960} target:{0}. Falling back to lenient merge.\u001b[m\n",
      "\u001b[0;93m2025-04-17 12:32:43.296033227 [W:onnxruntime:, graph.cc:109 MergeShapeInfo] Error merging shape info for output. '_native_batch_norm_legit_no_training_40__1' source:{960} target:{0}. Falling back to lenient merge.\u001b[m\n",
      "\u001b[0;93m2025-04-17 12:32:43.296044577 [W:onnxruntime:, graph.cc:109 MergeShapeInfo] Error merging shape info for output. '_native_batch_norm_legit_no_training_40__2' source:{960} target:{0}. Falling back to lenient merge.\u001b[m\n",
      "\u001b[0;93m2025-04-17 12:32:43.296193844 [W:onnxruntime:, graph.cc:109 MergeShapeInfo] Error merging shape info for output. '_native_batch_norm_legit_no_training_41__1' source:{160} target:{0}. Falling back to lenient merge.\u001b[m\n",
      "\u001b[0;93m2025-04-17 12:32:43.296205366 [W:onnxruntime:, graph.cc:109 MergeShapeInfo] Error merging shape info for output. '_native_batch_norm_legit_no_training_41__2' source:{160} target:{0}. Falling back to lenient merge.\u001b[m\n",
      "\u001b[0;93m2025-04-17 12:32:43.296342521 [W:onnxruntime:, graph.cc:109 MergeShapeInfo] Error merging shape info for output. '_native_batch_norm_legit_no_training_42__1' source:{960} target:{0}. Falling back to lenient merge.\u001b[m\n",
      "\u001b[0;93m2025-04-17 12:32:43.296354631 [W:onnxruntime:, graph.cc:109 MergeShapeInfo] Error merging shape info for output. '_native_batch_norm_legit_no_training_42__2' source:{960} target:{0}. Falling back to lenient merge.\u001b[m\n",
      "\u001b[0;93m2025-04-17 12:32:43.296464109 [W:onnxruntime:, graph.cc:109 MergeShapeInfo] Error merging shape info for output. '_native_batch_norm_legit_no_training_43__1' source:{960} target:{0}. Falling back to lenient merge.\u001b[m\n",
      "\u001b[0;93m2025-04-17 12:32:43.296475687 [W:onnxruntime:, graph.cc:109 MergeShapeInfo] Error merging shape info for output. '_native_batch_norm_legit_no_training_43__2' source:{960} target:{0}. Falling back to lenient merge.\u001b[m\n",
      "\u001b[0;93m2025-04-17 12:32:43.296649010 [W:onnxruntime:, graph.cc:109 MergeShapeInfo] Error merging shape info for output. '_native_batch_norm_legit_no_training_44__1' source:{160} target:{0}. Falling back to lenient merge.\u001b[m\n",
      "\u001b[0;93m2025-04-17 12:32:43.296660160 [W:onnxruntime:, graph.cc:109 MergeShapeInfo] Error merging shape info for output. '_native_batch_norm_legit_no_training_44__2' source:{160} target:{0}. Falling back to lenient merge.\u001b[m\n",
      "\u001b[0;93m2025-04-17 12:32:43.296802762 [W:onnxruntime:, graph.cc:109 MergeShapeInfo] Error merging shape info for output. '_native_batch_norm_legit_no_training_45__1' source:{960} target:{0}. Falling back to lenient merge.\u001b[m\n",
      "\u001b[0;93m2025-04-17 12:32:43.296816422 [W:onnxruntime:, graph.cc:109 MergeShapeInfo] Error merging shape info for output. '_native_batch_norm_legit_no_training_45__2' source:{960} target:{0}. Falling back to lenient merge.\u001b[m\n",
      "\u001b[0;93m2025-04-17 12:32:43.297951756 [W:onnxruntime:, graph.cc:4285 CleanUnusedInitializersAndNodeArgs] Removing initializer 'val_165'. It is not used by any node and should be removed from the model.\u001b[m\n",
      "\u001b[0;93m2025-04-17 12:32:43.298015533 [W:onnxruntime:, graph.cc:4285 CleanUnusedInitializersAndNodeArgs] Removing initializer 'val_162'. It is not used by any node and should be removed from the model.\u001b[m\n",
      "\u001b[0;93m2025-04-17 12:32:43.298051006 [W:onnxruntime:, graph.cc:4285 CleanUnusedInitializersAndNodeArgs] Removing initializer 'val_154'. It is not used by any node and should be removed from the model.\u001b[m\n",
      "\u001b[0;93m2025-04-17 12:32:43.298082706 [W:onnxruntime:, graph.cc:4285 CleanUnusedInitializersAndNodeArgs] Removing initializer 'val_146'. It is not used by any node and should be removed from the model.\u001b[m\n",
      "\u001b[0;93m2025-04-17 12:32:43.298112722 [W:onnxruntime:, graph.cc:4285 CleanUnusedInitializersAndNodeArgs] Removing initializer 'val_143'. It is not used by any node and should be removed from the model.\u001b[m\n",
      "\u001b[0;93m2025-04-17 12:32:43.298145760 [W:onnxruntime:, graph.cc:4285 CleanUnusedInitializersAndNodeArgs] Removing initializer 'val_132'. It is not used by any node and should be removed from the model.\u001b[m\n",
      "\u001b[0;93m2025-04-17 12:32:43.298176039 [W:onnxruntime:, graph.cc:4285 CleanUnusedInitializersAndNodeArgs] Removing initializer 'val_129'. It is not used by any node and should be removed from the model.\u001b[m\n",
      "\u001b[0;93m2025-04-17 12:32:43.298205899 [W:onnxruntime:, graph.cc:4285 CleanUnusedInitializersAndNodeArgs] Removing initializer 'val_124'. It is not used by any node and should be removed from the model.\u001b[m\n",
      "\u001b[0;93m2025-04-17 12:32:43.298290547 [W:onnxruntime:, graph.cc:4285 CleanUnusedInitializersAndNodeArgs] Removing initializer 'val_151'. It is not used by any node and should be removed from the model.\u001b[m\n",
      "\u001b[0;93m2025-04-17 12:32:43.298321858 [W:onnxruntime:, graph.cc:4285 CleanUnusedInitializersAndNodeArgs] Removing initializer 'val_121'. It is not used by any node and should be removed from the model.\u001b[m\n",
      "\u001b[0;93m2025-04-17 12:32:43.298353047 [W:onnxruntime:, graph.cc:4285 CleanUnusedInitializersAndNodeArgs] Removing initializer 'val_113'. It is not used by any node and should be removed from the model.\u001b[m\n",
      "\u001b[0;93m2025-04-17 12:32:43.298383597 [W:onnxruntime:, graph.cc:4285 CleanUnusedInitializersAndNodeArgs] Removing initializer 'val_107'. It is not used by any node and should be removed from the model.\u001b[m\n",
      "\u001b[0;93m2025-04-17 12:32:43.298414089 [W:onnxruntime:, graph.cc:4285 CleanUnusedInitializersAndNodeArgs] Removing initializer 'val_98'. It is not used by any node and should be removed from the model.\u001b[m\n",
      "\u001b[0;93m2025-04-17 12:32:43.298443505 [W:onnxruntime:, graph.cc:4285 CleanUnusedInitializersAndNodeArgs] Removing initializer 'val_95'. It is not used by any node and should be removed from the model.\u001b[m\n",
      "\u001b[0;93m2025-04-17 12:32:43.298473172 [W:onnxruntime:, graph.cc:4285 CleanUnusedInitializersAndNodeArgs] Removing initializer 'val_92'. It is not used by any node and should be removed from the model.\u001b[m\n",
      "\u001b[0;93m2025-04-17 12:32:43.298503110 [W:onnxruntime:, graph.cc:4285 CleanUnusedInitializersAndNodeArgs] Removing initializer 'val_74'. It is not used by any node and should be removed from the model.\u001b[m\n",
      "\u001b[0;93m2025-04-17 12:32:43.298534732 [W:onnxruntime:, graph.cc:4285 CleanUnusedInitializersAndNodeArgs] Removing initializer 'val_66'. It is not used by any node and should be removed from the model.\u001b[m\n",
      "\u001b[0;93m2025-04-17 12:32:43.298566905 [W:onnxruntime:, graph.cc:4285 CleanUnusedInitializersAndNodeArgs] Removing initializer 'val_60'. It is not used by any node and should be removed from the model.\u001b[m\n",
      "\u001b[0;93m2025-04-17 12:32:43.298598630 [W:onnxruntime:, graph.cc:4285 CleanUnusedInitializersAndNodeArgs] Removing initializer 'val_52'. It is not used by any node and should be removed from the model.\u001b[m\n",
      "\u001b[0;93m2025-04-17 12:32:43.298629255 [W:onnxruntime:, graph.cc:4285 CleanUnusedInitializersAndNodeArgs] Removing initializer 'val_49'. It is not used by any node and should be removed from the model.\u001b[m\n",
      "\u001b[0;93m2025-04-17 12:32:43.298669394 [W:onnxruntime:, graph.cc:4285 CleanUnusedInitializersAndNodeArgs] Removing initializer 'val_40'. It is not used by any node and should be removed from the model.\u001b[m\n",
      "\u001b[0;93m2025-04-17 12:32:43.298717274 [W:onnxruntime:, graph.cc:4285 CleanUnusedInitializersAndNodeArgs] Removing initializer 'val_34'. It is not used by any node and should be removed from the model.\u001b[m\n",
      "\u001b[0;93m2025-04-17 12:32:43.298748099 [W:onnxruntime:, graph.cc:4285 CleanUnusedInitializersAndNodeArgs] Removing initializer 'val_28'. It is not used by any node and should be removed from the model.\u001b[m\n",
      "\u001b[0;93m2025-04-17 12:32:43.298778352 [W:onnxruntime:, graph.cc:4285 CleanUnusedInitializersAndNodeArgs] Removing initializer 'val_22'. It is not used by any node and should be removed from the model.\u001b[m\n",
      "\u001b[0;93m2025-04-17 12:32:43.298809289 [W:onnxruntime:, graph.cc:4285 CleanUnusedInitializersAndNodeArgs] Removing initializer 'val_16'. It is not used by any node and should be removed from the model.\u001b[m\n",
      "\u001b[0;93m2025-04-17 12:32:43.298839524 [W:onnxruntime:, graph.cc:4285 CleanUnusedInitializersAndNodeArgs] Removing initializer 'val_13'. It is not used by any node and should be removed from the model.\u001b[m\n",
      "\u001b[0;93m2025-04-17 12:32:43.298876030 [W:onnxruntime:, graph.cc:4285 CleanUnusedInitializersAndNodeArgs] Removing initializer 'model.features.16.1.num_batches_tracked'. It is not used by any node and should be removed from the model.\u001b[m\n",
      "\u001b[0;93m2025-04-17 12:32:43.298917609 [W:onnxruntime:, graph.cc:4285 CleanUnusedInitializersAndNodeArgs] Removing initializer 'val_135'. It is not used by any node and should be removed from the model.\u001b[m\n",
      "\u001b[0;93m2025-04-17 12:32:43.298948046 [W:onnxruntime:, graph.cc:4285 CleanUnusedInitializersAndNodeArgs] Removing initializer 'model.features.14.block.0.1.num_batches_tracked'. It is not used by any node and should be removed from the model.\u001b[m\n",
      "\u001b[0;93m2025-04-17 12:32:43.298982515 [W:onnxruntime:, graph.cc:4285 CleanUnusedInitializersAndNodeArgs] Removing initializer 'model.features.13.block.1.1.num_batches_tracked'. It is not used by any node and should be removed from the model.\u001b[m\n",
      "\u001b[0;93m2025-04-17 12:32:43.299014168 [W:onnxruntime:, graph.cc:4285 CleanUnusedInitializersAndNodeArgs] Removing initializer 'model.features.13.block.0.1.num_batches_tracked'. It is not used by any node and should be removed from the model.\u001b[m\n",
      "\u001b[0;93m2025-04-17 12:32:43.299047122 [W:onnxruntime:, graph.cc:4285 CleanUnusedInitializersAndNodeArgs] Removing initializer 'model.features.12.block.1.1.num_batches_tracked'. It is not used by any node and should be removed from the model.\u001b[m\n",
      "\u001b[0;93m2025-04-17 12:32:43.299078255 [W:onnxruntime:, graph.cc:4285 CleanUnusedInitializersAndNodeArgs] Removing initializer 'model.features.12.block.0.1.num_batches_tracked'. It is not used by any node and should be removed from the model.\u001b[m\n",
      "\u001b[0;93m2025-04-17 12:32:43.299120754 [W:onnxruntime:, graph.cc:4285 CleanUnusedInitializersAndNodeArgs] Removing initializer 'model.features.11.block.1.1.num_batches_tracked'. It is not used by any node and should be removed from the model.\u001b[m\n",
      "\u001b[0;93m2025-04-17 12:32:43.299155463 [W:onnxruntime:, graph.cc:4285 CleanUnusedInitializersAndNodeArgs] Removing initializer 'model.features.11.block.0.1.num_batches_tracked'. It is not used by any node and should be removed from the model.\u001b[m\n",
      "\u001b[0;93m2025-04-17 12:32:43.299192421 [W:onnxruntime:, graph.cc:4285 CleanUnusedInitializersAndNodeArgs] Removing initializer 'model.features.10.block.1.1.num_batches_tracked'. It is not used by any node and should be removed from the model.\u001b[m\n",
      "\u001b[0;93m2025-04-17 12:32:43.299283321 [W:onnxruntime:, graph.cc:4285 CleanUnusedInitializersAndNodeArgs] Removing initializer 'val_157'. It is not used by any node and should be removed from the model.\u001b[m\n",
      "\u001b[0;93m2025-04-17 12:32:43.299327205 [W:onnxruntime:, graph.cc:4285 CleanUnusedInitializersAndNodeArgs] Removing initializer 'model.features.7.block.2.1.num_batches_tracked'. It is not used by any node and should be removed from the model.\u001b[m\n",
      "\u001b[0;93m2025-04-17 12:32:43.299376830 [W:onnxruntime:, graph.cc:4285 CleanUnusedInitializersAndNodeArgs] Removing initializer 'val_101'. It is not used by any node and should be removed from the model.\u001b[m\n",
      "\u001b[0;93m2025-04-17 12:32:43.299409181 [W:onnxruntime:, graph.cc:4285 CleanUnusedInitializersAndNodeArgs] Removing initializer 'val_83'. It is not used by any node and should be removed from the model.\u001b[m\n",
      "\u001b[0;93m2025-04-17 12:32:43.299441475 [W:onnxruntime:, graph.cc:4285 CleanUnusedInitializersAndNodeArgs] Removing initializer 'val_77'. It is not used by any node and should be removed from the model.\u001b[m\n",
      "\u001b[0;93m2025-04-17 12:32:43.299473185 [W:onnxruntime:, graph.cc:4285 CleanUnusedInitializersAndNodeArgs] Removing initializer 'model.features.12.block.3.1.num_batches_tracked'. It is not used by any node and should be removed from the model.\u001b[m\n",
      "\u001b[0;93m2025-04-17 12:32:43.299510667 [W:onnxruntime:, graph.cc:4285 CleanUnusedInitializersAndNodeArgs] Removing initializer 'model.features.1.block.1.1.num_batches_tracked'. It is not used by any node and should be removed from the model.\u001b[m\n",
      "\u001b[0;93m2025-04-17 12:32:43.299543087 [W:onnxruntime:, graph.cc:4285 CleanUnusedInitializersAndNodeArgs] Removing initializer 'val_43'. It is not used by any node and should be removed from the model.\u001b[m\n",
      "\u001b[0;93m2025-04-17 12:32:43.299584364 [W:onnxruntime:, graph.cc:4285 CleanUnusedInitializersAndNodeArgs] Removing initializer 'model.features.15.block.1.1.num_batches_tracked'. It is not used by any node and should be removed from the model.\u001b[m\n",
      "\u001b[0;93m2025-04-17 12:32:43.299634823 [W:onnxruntime:, graph.cc:4285 CleanUnusedInitializersAndNodeArgs] Removing initializer 'model.features.15.block.0.1.num_batches_tracked'. It is not used by any node and should be removed from the model.\u001b[m\n",
      "\u001b[0;93m2025-04-17 12:32:43.299676690 [W:onnxruntime:, graph.cc:4285 CleanUnusedInitializersAndNodeArgs] Removing initializer 'model.features.11.block.3.1.num_batches_tracked'. It is not used by any node and should be removed from the model.\u001b[m\n",
      "\u001b[0;93m2025-04-17 12:32:43.299714829 [W:onnxruntime:, graph.cc:4285 CleanUnusedInitializersAndNodeArgs] Removing initializer 'model.features.8.block.0.1.num_batches_tracked'. It is not used by any node and should be removed from the model.\u001b[m\n",
      "\u001b[0;93m2025-04-17 12:32:43.299761273 [W:onnxruntime:, graph.cc:4285 CleanUnusedInitializersAndNodeArgs] Removing initializer 'val_55'. It is not used by any node and should be removed from the model.\u001b[m\n",
      "\u001b[0;93m2025-04-17 12:32:43.299820100 [W:onnxruntime:, graph.cc:4285 CleanUnusedInitializersAndNodeArgs] Removing initializer 'val_140'. It is not used by any node and should be removed from the model.\u001b[m\n",
      "\u001b[0;93m2025-04-17 12:32:43.299856216 [W:onnxruntime:, graph.cc:4285 CleanUnusedInitializersAndNodeArgs] Removing initializer 'model.features.10.block.0.1.num_batches_tracked'. It is not used by any node and should be removed from the model.\u001b[m\n",
      "\u001b[0;93m2025-04-17 12:32:43.299888056 [W:onnxruntime:, graph.cc:4285 CleanUnusedInitializersAndNodeArgs] Removing initializer 'model.features.10.block.2.1.num_batches_tracked'. It is not used by any node and should be removed from the model.\u001b[m\n",
      "\u001b[0;93m2025-04-17 12:32:43.299919154 [W:onnxruntime:, graph.cc:4285 CleanUnusedInitializersAndNodeArgs] Removing initializer 'model.features.15.block.3.1.num_batches_tracked'. It is not used by any node and should be removed from the model.\u001b[m\n",
      "\u001b[0;93m2025-04-17 12:32:43.299952598 [W:onnxruntime:, graph.cc:4285 CleanUnusedInitializersAndNodeArgs] Removing initializer 'model.features.3.block.2.1.num_batches_tracked'. It is not used by any node and should be removed from the model.\u001b[m\n",
      "\u001b[0;93m2025-04-17 12:32:43.299999170 [W:onnxruntime:, graph.cc:4285 CleanUnusedInitializersAndNodeArgs] Removing initializer 'model.features.14.block.3.1.num_batches_tracked'. It is not used by any node and should be removed from the model.\u001b[m\n",
      "\u001b[0;93m2025-04-17 12:32:43.300037822 [W:onnxruntime:, graph.cc:4285 CleanUnusedInitializersAndNodeArgs] Removing initializer 'model.features.14.block.1.1.num_batches_tracked'. It is not used by any node and should be removed from the model.\u001b[m\n",
      "\u001b[0;93m2025-04-17 12:32:43.300079566 [W:onnxruntime:, graph.cc:4285 CleanUnusedInitializersAndNodeArgs] Removing initializer 'model.features.2.block.1.1.num_batches_tracked'. It is not used by any node and should be removed from the model.\u001b[m\n",
      "\u001b[0;93m2025-04-17 12:32:43.300124345 [W:onnxruntime:, graph.cc:4285 CleanUnusedInitializersAndNodeArgs] Removing initializer 'model.features.6.block.3.1.num_batches_tracked'. It is not used by any node and should be removed from the model.\u001b[m\n",
      "\u001b[0;93m2025-04-17 12:32:43.300171670 [W:onnxruntime:, graph.cc:4285 CleanUnusedInitializersAndNodeArgs] Removing initializer 'val_89'. It is not used by any node and should be removed from the model.\u001b[m\n",
      "\u001b[0;93m2025-04-17 12:32:43.300205541 [W:onnxruntime:, graph.cc:4285 CleanUnusedInitializersAndNodeArgs] Removing initializer 'model.features.13.block.3.1.num_batches_tracked'. It is not used by any node and should be removed from the model.\u001b[m\n",
      "\u001b[0;93m2025-04-17 12:32:43.300299264 [W:onnxruntime:, graph.cc:4285 CleanUnusedInitializersAndNodeArgs] Removing initializer 'model.features.3.block.1.1.num_batches_tracked'. It is not used by any node and should be removed from the model.\u001b[m\n",
      "\u001b[0;93m2025-04-17 12:32:43.300339987 [W:onnxruntime:, graph.cc:4285 CleanUnusedInitializersAndNodeArgs] Removing initializer 'val_104'. It is not used by any node and should be removed from the model.\u001b[m\n",
      "\u001b[0;93m2025-04-17 12:32:43.300403262 [W:onnxruntime:, graph.cc:4285 CleanUnusedInitializersAndNodeArgs] Removing initializer 'val_37'. It is not used by any node and should be removed from the model.\u001b[m\n",
      "\u001b[0;93m2025-04-17 12:32:43.300441845 [W:onnxruntime:, graph.cc:4285 CleanUnusedInitializersAndNodeArgs] Removing initializer 'val_80'. It is not used by any node and should be removed from the model.\u001b[m\n",
      "\u001b[0;93m2025-04-17 12:32:43.300484454 [W:onnxruntime:, graph.cc:4285 CleanUnusedInitializersAndNodeArgs] Removing initializer 'model.features.9.block.0.1.num_batches_tracked'. It is not used by any node and should be removed from the model.\u001b[m\n",
      "\u001b[0;93m2025-04-17 12:32:43.300528753 [W:onnxruntime:, graph.cc:4285 CleanUnusedInitializersAndNodeArgs] Removing initializer 'model.features.0.1.num_batches_tracked'. It is not used by any node and should be removed from the model.\u001b[m\n",
      "\u001b[0;93m2025-04-17 12:32:43.300567654 [W:onnxruntime:, graph.cc:4285 CleanUnusedInitializersAndNodeArgs] Removing initializer 'model.features.8.block.2.1.num_batches_tracked'. It is not used by any node and should be removed from the model.\u001b[m\n",
      "\u001b[0;93m2025-04-17 12:32:43.300598271 [W:onnxruntime:, graph.cc:4285 CleanUnusedInitializersAndNodeArgs] Removing initializer 'val_63'. It is not used by any node and should be removed from the model.\u001b[m\n",
      "\u001b[0;93m2025-04-17 12:32:43.300628836 [W:onnxruntime:, graph.cc:4285 CleanUnusedInitializersAndNodeArgs] Removing initializer 'model.features.1.block.0.1.num_batches_tracked'. It is not used by any node and should be removed from the model.\u001b[m\n",
      "\u001b[0;93m2025-04-17 12:32:43.300658847 [W:onnxruntime:, graph.cc:4285 CleanUnusedInitializersAndNodeArgs] Removing initializer 'val_31'. It is not used by any node and should be removed from the model.\u001b[m\n",
      "\u001b[0;93m2025-04-17 12:32:43.300691564 [W:onnxruntime:, graph.cc:4285 CleanUnusedInitializersAndNodeArgs] Removing initializer 'val_118'. It is not used by any node and should be removed from the model.\u001b[m\n",
      "\u001b[0;93m2025-04-17 12:32:43.300722021 [W:onnxruntime:, graph.cc:4285 CleanUnusedInitializersAndNodeArgs] Removing initializer 'model.features.5.block.3.1.num_batches_tracked'. It is not used by any node and should be removed from the model.\u001b[m\n",
      "\u001b[0;93m2025-04-17 12:32:43.300757180 [W:onnxruntime:, graph.cc:4285 CleanUnusedInitializersAndNodeArgs] Removing initializer 'model.features.2.block.2.1.num_batches_tracked'. It is not used by any node and should be removed from the model.\u001b[m\n",
      "\u001b[0;93m2025-04-17 12:32:43.300799307 [W:onnxruntime:, graph.cc:4285 CleanUnusedInitializersAndNodeArgs] Removing initializer 'val_71'. It is not used by any node and should be removed from the model.\u001b[m\n",
      "\u001b[0;93m2025-04-17 12:32:43.300835688 [W:onnxruntime:, graph.cc:4285 CleanUnusedInitializersAndNodeArgs] Removing initializer 'model.features.3.block.0.1.num_batches_tracked'. It is not used by any node and should be removed from the model.\u001b[m\n",
      "\u001b[0;93m2025-04-17 12:32:43.300868196 [W:onnxruntime:, graph.cc:4285 CleanUnusedInitializersAndNodeArgs] Removing initializer 'model.features.4.block.0.1.num_batches_tracked'. It is not used by any node and should be removed from the model.\u001b[m\n",
      "\u001b[0;93m2025-04-17 12:32:43.300905236 [W:onnxruntime:, graph.cc:4285 CleanUnusedInitializersAndNodeArgs] Removing initializer 'model.features.4.block.1.1.num_batches_tracked'. It is not used by any node and should be removed from the model.\u001b[m\n",
      "\u001b[0;93m2025-04-17 12:32:43.300943836 [W:onnxruntime:, graph.cc:4285 CleanUnusedInitializersAndNodeArgs] Removing initializer 'model.features.4.block.3.1.num_batches_tracked'. It is not used by any node and should be removed from the model.\u001b[m\n",
      "\u001b[0;93m2025-04-17 12:32:43.300980586 [W:onnxruntime:, graph.cc:4285 CleanUnusedInitializersAndNodeArgs] Removing initializer 'model.features.5.block.0.1.num_batches_tracked'. It is not used by any node and should be removed from the model.\u001b[m\n",
      "\u001b[0;93m2025-04-17 12:32:43.301013336 [W:onnxruntime:, graph.cc:4285 CleanUnusedInitializersAndNodeArgs] Removing initializer 'model.features.5.block.1.1.num_batches_tracked'. It is not used by any node and should be removed from the model.\u001b[m\n",
      "\u001b[0;93m2025-04-17 12:32:43.301047461 [W:onnxruntime:, graph.cc:4285 CleanUnusedInitializersAndNodeArgs] Removing initializer 'model.features.2.block.0.1.num_batches_tracked'. It is not used by any node and should be removed from the model.\u001b[m\n",
      "\u001b[0;93m2025-04-17 12:32:43.301078041 [W:onnxruntime:, graph.cc:4285 CleanUnusedInitializersAndNodeArgs] Removing initializer 'model.features.6.block.0.1.num_batches_tracked'. It is not used by any node and should be removed from the model.\u001b[m\n",
      "\u001b[0;93m2025-04-17 12:32:43.301108586 [W:onnxruntime:, graph.cc:4285 CleanUnusedInitializersAndNodeArgs] Removing initializer 'val_110'. It is not used by any node and should be removed from the model.\u001b[m\n",
      "\u001b[0;93m2025-04-17 12:32:43.301149971 [W:onnxruntime:, graph.cc:4285 CleanUnusedInitializersAndNodeArgs] Removing initializer 'model.features.6.block.1.1.num_batches_tracked'. It is not used by any node and should be removed from the model.\u001b[m\n",
      "\u001b[0;93m2025-04-17 12:32:43.301183899 [W:onnxruntime:, graph.cc:4285 CleanUnusedInitializersAndNodeArgs] Removing initializer 'model.features.7.block.0.1.num_batches_tracked'. It is not used by any node and should be removed from the model.\u001b[m\n",
      "\u001b[0;93m2025-04-17 12:32:43.301349052 [W:onnxruntime:, graph.cc:4285 CleanUnusedInitializersAndNodeArgs] Removing initializer 'model.features.7.block.1.1.num_batches_tracked'. It is not used by any node and should be removed from the model.\u001b[m\n",
      "\u001b[0;93m2025-04-17 12:32:43.301390877 [W:onnxruntime:, graph.cc:4285 CleanUnusedInitializersAndNodeArgs] Removing initializer 'val_19'. It is not used by any node and should be removed from the model.\u001b[m\n",
      "\u001b[0;93m2025-04-17 12:32:43.301424030 [W:onnxruntime:, graph.cc:4285 CleanUnusedInitializersAndNodeArgs] Removing initializer 'val_86'. It is not used by any node and should be removed from the model.\u001b[m\n",
      "\u001b[0;93m2025-04-17 12:32:43.301454388 [W:onnxruntime:, graph.cc:4285 CleanUnusedInitializersAndNodeArgs] Removing initializer 'model.features.8.block.1.1.num_batches_tracked'. It is not used by any node and should be removed from the model.\u001b[m\n",
      "\u001b[0;93m2025-04-17 12:32:43.301489280 [W:onnxruntime:, graph.cc:4285 CleanUnusedInitializersAndNodeArgs] Removing initializer 'model.features.9.block.1.1.num_batches_tracked'. It is not used by any node and should be removed from the model.\u001b[m\n",
      "\u001b[0;93m2025-04-17 12:32:43.301533869 [W:onnxruntime:, graph.cc:4285 CleanUnusedInitializersAndNodeArgs] Removing initializer 'model.features.9.block.2.1.num_batches_tracked'. It is not used by any node and should be removed from the model.\u001b[m\n",
      "\u001b[0;93m2025-04-17 12:32:43.301565252 [W:onnxruntime:, graph.cc:4285 CleanUnusedInitializersAndNodeArgs] Removing initializer 'val_25'. It is not used by any node and should be removed from the model.\u001b[m\n",
      "2025-04-17 12:32:43,661 ort_format_model.utils [INFO] - Created config in /home/maxime/Documents/Code/happybud/training/onnx_models/generalist_model_2025_03_27_encoder.required_operators.config\n"
     ]
    },
    {
     "name": "stdout",
     "output_type": "stream",
     "text": [
      "Converted 1/1 models successfully.\n",
      "Generating config file from ORT format models with optimization style 'Fixed' and level 'all'\n"
     ]
    }
   ],
   "source": [
    "# Export to ONNX\n",
    "path = pathlib.Path(\"onnx_models\")\n",
    "path.mkdir(exist_ok=True)\n",
    "\n",
    "export_to_onnx(inference_model_encoder, torch_input, \"generalist_model_2025_03_27_encoder\", path)"
   ]
  },
  {
   "cell_type": "markdown",
   "id": "adb52576",
   "metadata": {},
   "source": [
    "### 2.2 - Décodeur des plantes"
   ]
  },
  {
   "cell_type": "code",
   "execution_count": 29,
   "id": "ece5df6c",
   "metadata": {},
   "outputs": [
    {
     "data": {
      "text/plain": [
       "<All keys matched successfully>"
      ]
     },
     "execution_count": 29,
     "metadata": {},
     "output_type": "execute_result"
    }
   ],
   "source": [
    "# Load pretrained MobileNet_v3\n",
    "num_labels = 3\n",
    "\n",
    "model = torchvision.models.mobilenet_v3_large(weights=\"IMAGENET1K_V1\")  # Load a pretrained model\n",
    "model.classifier[3] = torch.nn.Linear(\n",
    "    model.classifier[3].in_features, num_labels\n",
    ")\n",
    "\n",
    "# Load parameters\n",
    "device = torch.device(\"cuda\" if torch.cuda.is_available() else \"cpu\")\n",
    "\n",
    "model.load_state_dict(\n",
    "    torch.load(\n",
    "        \"models/generalist_model_plants_2025_03_27.pt\",\n",
    "        map_location=device,\n",
    "        weights_only=True,\n",
    "    )\n",
    ")"
   ]
  },
  {
   "cell_type": "code",
   "execution_count": 30,
   "id": "937a92a2",
   "metadata": {},
   "outputs": [
    {
     "data": {
      "text/plain": [
       "Sequential(\n",
       "  (0): Linear(in_features=960, out_features=1280, bias=True)\n",
       "  (1): Hardswish()\n",
       "  (2): Dropout(p=0.2, inplace=True)\n",
       "  (3): Linear(in_features=1280, out_features=3, bias=True)\n",
       ")"
      ]
     },
     "execution_count": 30,
     "metadata": {},
     "output_type": "execute_result"
    }
   ],
   "source": [
    "# Copy classifier and set model classifier to identity\n",
    "classifier = model.classifier\n",
    "\n",
    "classifier"
   ]
  },
  {
   "cell_type": "code",
   "execution_count": 31,
   "id": "94f8b10e",
   "metadata": {},
   "outputs": [
    {
     "data": {
      "text/plain": [
       "InferenceModelDecoder(\n",
       "  (model): Sequential(\n",
       "    (0): Linear(in_features=960, out_features=1280, bias=True)\n",
       "    (1): Hardswish()\n",
       "    (2): Dropout(p=0.2, inplace=True)\n",
       "    (3): Linear(in_features=1280, out_features=3, bias=True)\n",
       "  )\n",
       "  (postprocess): Softmax(dim=1)\n",
       ")"
      ]
     },
     "execution_count": 31,
     "metadata": {},
     "output_type": "execute_result"
    }
   ],
   "source": [
    "# Define decoder inference models\n",
    "inference_model_decoder = InferenceModelDecoder(classifier)\n",
    "inference_model_decoder.eval()"
   ]
  },
  {
   "cell_type": "code",
   "execution_count": 32,
   "id": "b5dce3ce",
   "metadata": {},
   "outputs": [
    {
     "name": "stdout",
     "output_type": "stream",
     "text": [
      "[torch.onnx] Obtain model graph for `InferenceModelDecoder([...]` with `torch.export.export`...\n",
      "[torch.onnx] Obtain model graph for `InferenceModelDecoder([...]` with `torch.export.export`... ✅\n",
      "[torch.onnx] Translate the graph into ONNX...\n"
     ]
    },
    {
     "name": "stderr",
     "output_type": "stream",
     "text": [
      "2025-04-17 12:34:27,925 ort_format_model.utils [INFO] - Created config in /home/maxime/Documents/Code/happybud/training/onnx_models/generalist_model_plants_2025_03_27_decoder.required_operators.config\n"
     ]
    },
    {
     "name": "stdout",
     "output_type": "stream",
     "text": [
      "[torch.onnx] Translate the graph into ONNX... ✅\n",
      "Converting models with optimization style 'Fixed' and level 'all'\n",
      "Converting optimized ONNX model /home/maxime/Documents/Code/happybud/training/onnx_models/generalist_model_plants_2025_03_27_decoder.onnx to ORT format model /home/maxime/Documents/Code/happybud/training/onnx_models/generalist_model_plants_2025_03_27_decoder.ort\n",
      "Converted 1/1 models successfully.\n",
      "Generating config file from ORT format models with optimization style 'Fixed' and level 'all'\n"
     ]
    }
   ],
   "source": [
    "# Export to ONNX\n",
    "export_to_onnx(inference_model_decoder, encoded, \"generalist_model_plants_2025_03_27_decoder\", path)"
   ]
  },
  {
   "cell_type": "markdown",
   "id": "5049d9d5",
   "metadata": {},
   "source": [
    "### 2.3 - Décodeur des tomates"
   ]
  },
  {
   "cell_type": "code",
   "execution_count": 26,
   "id": "0b6ed3f6",
   "metadata": {},
   "outputs": [
    {
     "data": {
      "text/plain": [
       "<All keys matched successfully>"
      ]
     },
     "execution_count": 26,
     "metadata": {},
     "output_type": "execute_result"
    }
   ],
   "source": [
    "# Load pretrained MobileNet_v3\n",
    "num_labels = 10\n",
    "\n",
    "model = torchvision.models.mobilenet_v3_large(weights=\"IMAGENET1K_V1\")  # Load a pretrained model\n",
    "model.classifier[3] = torch.nn.Linear(\n",
    "    model.classifier[3].in_features, num_labels\n",
    ")\n",
    "\n",
    "# Load parameters\n",
    "device = torch.device(\"cuda\" if torch.cuda.is_available() else \"cpu\")\n",
    "\n",
    "model.load_state_dict(\n",
    "    torch.load(\n",
    "        \"models/generalist_model_tomato_2025_03_27.pt\",\n",
    "        map_location=device,\n",
    "        weights_only=True,\n",
    "    )\n",
    ")"
   ]
  },
  {
   "cell_type": "code",
   "execution_count": 27,
   "id": "44faede0",
   "metadata": {},
   "outputs": [
    {
     "data": {
      "text/plain": [
       "Sequential(\n",
       "  (0): Linear(in_features=960, out_features=1280, bias=True)\n",
       "  (1): Hardswish()\n",
       "  (2): Dropout(p=0.2, inplace=True)\n",
       "  (3): Linear(in_features=1280, out_features=10, bias=True)\n",
       ")"
      ]
     },
     "execution_count": 27,
     "metadata": {},
     "output_type": "execute_result"
    }
   ],
   "source": [
    "# Copy classifier and set model classifier to identity\n",
    "classifier = model.classifier\n",
    "\n",
    "classifier"
   ]
  },
  {
   "cell_type": "code",
   "execution_count": 28,
   "id": "26998e2a",
   "metadata": {},
   "outputs": [
    {
     "data": {
      "text/plain": [
       "InferenceModelDecoder(\n",
       "  (model): Sequential(\n",
       "    (0): Linear(in_features=960, out_features=1280, bias=True)\n",
       "    (1): Hardswish()\n",
       "    (2): Dropout(p=0.2, inplace=True)\n",
       "    (3): Linear(in_features=1280, out_features=10, bias=True)\n",
       "  )\n",
       "  (postprocess): Softmax(dim=1)\n",
       ")"
      ]
     },
     "execution_count": 28,
     "metadata": {},
     "output_type": "execute_result"
    }
   ],
   "source": [
    "# Define decoder inference models\n",
    "inference_model_decoder = InferenceModelDecoder(classifier)\n",
    "inference_model_decoder.eval()"
   ]
  },
  {
   "cell_type": "code",
   "execution_count": 29,
   "id": "24c9e13c",
   "metadata": {},
   "outputs": [
    {
     "name": "stdout",
     "output_type": "stream",
     "text": [
      "[torch.onnx] Obtain model graph for `InferenceModelDecoder([...]` with `torch.export.export`...\n",
      "[torch.onnx] Obtain model graph for `InferenceModelDecoder([...]` with `torch.export.export`... ✅\n",
      "[torch.onnx] Translate the graph into ONNX...\n"
     ]
    },
    {
     "name": "stderr",
     "output_type": "stream",
     "text": [
      "2025-04-24 10:55:49,616 ort_format_model.utils [INFO] - Created config in /home/maxime/Documents/Code/happybud/training/onnx_models/generalist_model_tomato_2025_03_27_decoder.required_operators.config\n"
     ]
    },
    {
     "name": "stdout",
     "output_type": "stream",
     "text": [
      "[torch.onnx] Translate the graph into ONNX... ✅\n",
      "Converting models with optimization style 'Fixed' and level 'all'\n",
      "Converting optimized ONNX model /home/maxime/Documents/Code/happybud/training/onnx_models/generalist_model_tomato_2025_03_27_decoder.onnx to ORT format model /home/maxime/Documents/Code/happybud/training/onnx_models/generalist_model_tomato_2025_03_27_decoder.ort\n",
      "Converted 1/1 models successfully.\n",
      "Generating config file from ORT format models with optimization style 'Fixed' and level 'all'\n"
     ]
    }
   ],
   "source": [
    "# Export to ONNX\n",
    "export_to_onnx(inference_model_decoder, encoded, \"generalist_model_tomato_2025_03_27_decoder\", path)"
   ]
  },
  {
   "cell_type": "markdown",
   "id": "3ef9d381",
   "metadata": {},
   "source": [
    "### 2.4 - Décodeur du maïs"
   ]
  },
  {
   "cell_type": "code",
   "execution_count": 16,
   "id": "697f9ad4",
   "metadata": {},
   "outputs": [
    {
     "data": {
      "text/plain": [
       "<All keys matched successfully>"
      ]
     },
     "execution_count": 16,
     "metadata": {},
     "output_type": "execute_result"
    }
   ],
   "source": [
    "# Load pretrained MobileNet_v3\n",
    "num_labels = 5\n",
    "\n",
    "model = torchvision.models.mobilenet_v3_large(weights=\"IMAGENET1K_V1\")  # Load a pretrained model\n",
    "model.classifier[3] = torch.nn.Linear(\n",
    "    model.classifier[3].in_features, num_labels\n",
    ")\n",
    "\n",
    "# Load parameters\n",
    "device = torch.device(\"cuda\" if torch.cuda.is_available() else \"cpu\")\n",
    "\n",
    "model.load_state_dict(\n",
    "    torch.load(\n",
    "        \"models/generalist_model_corn_2025_04_22.pt\",\n",
    "        map_location=device,\n",
    "        weights_only=True,\n",
    "    )\n",
    ")"
   ]
  },
  {
   "cell_type": "code",
   "execution_count": 17,
   "id": "ea20e7e9",
   "metadata": {},
   "outputs": [
    {
     "data": {
      "text/plain": [
       "Sequential(\n",
       "  (0): Linear(in_features=960, out_features=1280, bias=True)\n",
       "  (1): Hardswish()\n",
       "  (2): Dropout(p=0.2, inplace=True)\n",
       "  (3): Linear(in_features=1280, out_features=5, bias=True)\n",
       ")"
      ]
     },
     "execution_count": 17,
     "metadata": {},
     "output_type": "execute_result"
    }
   ],
   "source": [
    "# Copy classifier and set model classifier to identity\n",
    "classifier = model.classifier\n",
    "\n",
    "classifier"
   ]
  },
  {
   "cell_type": "code",
   "execution_count": 18,
   "id": "f39376c0",
   "metadata": {},
   "outputs": [
    {
     "data": {
      "text/plain": [
       "InferenceModelDecoder(\n",
       "  (model): Sequential(\n",
       "    (0): Linear(in_features=960, out_features=1280, bias=True)\n",
       "    (1): Hardswish()\n",
       "    (2): Dropout(p=0.2, inplace=True)\n",
       "    (3): Linear(in_features=1280, out_features=5, bias=True)\n",
       "  )\n",
       "  (postprocess): Softmax(dim=1)\n",
       ")"
      ]
     },
     "execution_count": 18,
     "metadata": {},
     "output_type": "execute_result"
    }
   ],
   "source": [
    "# Define decoder inference models\n",
    "inference_model_decoder = InferenceModelDecoder(classifier)\n",
    "inference_model_decoder.eval()"
   ]
  },
  {
   "cell_type": "code",
   "execution_count": 20,
   "id": "9651f079",
   "metadata": {},
   "outputs": [
    {
     "name": "stderr",
     "output_type": "stream",
     "text": [
      "/home/maxime/.venvs/ai/lib64/python3.11/site-packages/onnxscript/converter.py:823: FutureWarning: 'onnxscript.values.Op.param_schemas' is deprecated in version 0.1 and will be removed in the future. Please use '.op_signature' instead.\n",
      "  param_schemas = callee.param_schemas()\n",
      "/home/maxime/.venvs/ai/lib64/python3.11/site-packages/onnxscript/converter.py:823: FutureWarning: 'onnxscript.values.OnnxFunction.param_schemas' is deprecated in version 0.1 and will be removed in the future. Please use '.op_signature' instead.\n",
      "  param_schemas = callee.param_schemas()\n"
     ]
    },
    {
     "name": "stdout",
     "output_type": "stream",
     "text": [
      "[torch.onnx] Obtain model graph for `InferenceModelDecoder([...]` with `torch.export.export`...\n",
      "[torch.onnx] Obtain model graph for `InferenceModelDecoder([...]` with `torch.export.export`... ✅\n",
      "[torch.onnx] Translate the graph into ONNX...\n"
     ]
    },
    {
     "name": "stderr",
     "output_type": "stream",
     "text": [
      "2025-04-24 10:54:41,005 ort_format_model.utils [INFO] - Created config in /home/maxime/Documents/Code/happybud/training/onnx_models/generalist_model_corn_2025_04_22_decoder.required_operators.config\n"
     ]
    },
    {
     "name": "stdout",
     "output_type": "stream",
     "text": [
      "[torch.onnx] Translate the graph into ONNX... ✅\n",
      "Converting models with optimization style 'Fixed' and level 'all'\n",
      "Converting optimized ONNX model /home/maxime/Documents/Code/happybud/training/onnx_models/generalist_model_corn_2025_04_22_decoder.onnx to ORT format model /home/maxime/Documents/Code/happybud/training/onnx_models/generalist_model_corn_2025_04_22_decoder.ort\n",
      "Converted 1/1 models successfully.\n",
      "Generating config file from ORT format models with optimization style 'Fixed' and level 'all'\n"
     ]
    }
   ],
   "source": [
    "# Export to ONNX\n",
    "path = pathlib.Path(\"onnx_models\")\n",
    "export_to_onnx(inference_model_decoder, encoded, \"generalist_model_corn_2025_04_22_decoder\", path)"
   ]
  },
  {
   "cell_type": "markdown",
   "id": "d722daf8",
   "metadata": {},
   "source": [
    "### 2.5 - Décodeur des patates"
   ]
  },
  {
   "cell_type": "code",
   "execution_count": 21,
   "id": "e96a0d25",
   "metadata": {},
   "outputs": [
    {
     "data": {
      "text/plain": [
       "<All keys matched successfully>"
      ]
     },
     "execution_count": 21,
     "metadata": {},
     "output_type": "execute_result"
    }
   ],
   "source": [
    "# Load pretrained MobileNet_v3\n",
    "num_labels = 3\n",
    "\n",
    "model = torchvision.models.mobilenet_v3_large(weights=\"IMAGENET1K_V1\")  # Load a pretrained model\n",
    "model.classifier[3] = torch.nn.Linear(\n",
    "    model.classifier[3].in_features, num_labels\n",
    ")\n",
    "\n",
    "# Load parameters\n",
    "device = torch.device(\"cuda\" if torch.cuda.is_available() else \"cpu\")\n",
    "\n",
    "model.load_state_dict(\n",
    "    torch.load(\n",
    "        \"models/generalist_model_potato_2025_04_22.pt\",\n",
    "        map_location=device,\n",
    "        weights_only=True,\n",
    "    )\n",
    ")"
   ]
  },
  {
   "cell_type": "code",
   "execution_count": 22,
   "id": "cd3573be",
   "metadata": {},
   "outputs": [
    {
     "data": {
      "text/plain": [
       "Sequential(\n",
       "  (0): Linear(in_features=960, out_features=1280, bias=True)\n",
       "  (1): Hardswish()\n",
       "  (2): Dropout(p=0.2, inplace=True)\n",
       "  (3): Linear(in_features=1280, out_features=3, bias=True)\n",
       ")"
      ]
     },
     "execution_count": 22,
     "metadata": {},
     "output_type": "execute_result"
    }
   ],
   "source": [
    "# Copy classifier and set model classifier to identity\n",
    "classifier = model.classifier\n",
    "\n",
    "classifier"
   ]
  },
  {
   "cell_type": "code",
   "execution_count": 23,
   "id": "593a8a54",
   "metadata": {},
   "outputs": [
    {
     "data": {
      "text/plain": [
       "InferenceModelDecoder(\n",
       "  (model): Sequential(\n",
       "    (0): Linear(in_features=960, out_features=1280, bias=True)\n",
       "    (1): Hardswish()\n",
       "    (2): Dropout(p=0.2, inplace=True)\n",
       "    (3): Linear(in_features=1280, out_features=3, bias=True)\n",
       "  )\n",
       "  (postprocess): Softmax(dim=1)\n",
       ")"
      ]
     },
     "execution_count": 23,
     "metadata": {},
     "output_type": "execute_result"
    }
   ],
   "source": [
    "# Define decoder inference models\n",
    "inference_model_decoder = InferenceModelDecoder(classifier)\n",
    "inference_model_decoder.eval()"
   ]
  },
  {
   "cell_type": "code",
   "execution_count": 25,
   "id": "9bfcb4e9",
   "metadata": {},
   "outputs": [
    {
     "name": "stdout",
     "output_type": "stream",
     "text": [
      "[torch.onnx] Obtain model graph for `InferenceModelDecoder([...]` with `torch.export.export`...\n",
      "[torch.onnx] Obtain model graph for `InferenceModelDecoder([...]` with `torch.export.export`... ✅\n",
      "[torch.onnx] Translate the graph into ONNX...\n"
     ]
    },
    {
     "name": "stderr",
     "output_type": "stream",
     "text": [
      "2025-04-24 10:55:26,790 ort_format_model.utils [INFO] - Created config in /home/maxime/Documents/Code/happybud/training/onnx_models/generalist_model_potato_2025_04_22_decoder.required_operators.config\n"
     ]
    },
    {
     "name": "stdout",
     "output_type": "stream",
     "text": [
      "[torch.onnx] Translate the graph into ONNX... ✅\n",
      "Converting models with optimization style 'Fixed' and level 'all'\n",
      "Converting optimized ONNX model /home/maxime/Documents/Code/happybud/training/onnx_models/generalist_model_potato_2025_04_22_decoder.onnx to ORT format model /home/maxime/Documents/Code/happybud/training/onnx_models/generalist_model_potato_2025_04_22_decoder.ort\n",
      "Converted 1/1 models successfully.\n",
      "Generating config file from ORT format models with optimization style 'Fixed' and level 'all'\n"
     ]
    }
   ],
   "source": [
    "# Export to ONNX\n",
    "export_to_onnx(inference_model_decoder, encoded, \"generalist_model_potato_2025_04_22_decoder\", path)"
   ]
  },
  {
   "cell_type": "markdown",
   "id": "4df1af17",
   "metadata": {},
   "source": [
    "## 3 - Nettoyage"
   ]
  },
  {
   "cell_type": "code",
   "execution_count": 30,
   "id": "0d0fb9e0",
   "metadata": {},
   "outputs": [],
   "source": [
    "for file in path.glob(\"*.config\"):\n",
    "    file.unlink()"
   ]
  },
  {
   "cell_type": "code",
   "execution_count": null,
   "id": "a04d0ebb",
   "metadata": {},
   "outputs": [],
   "source": []
  }
 ],
 "metadata": {
  "kernelspec": {
   "display_name": "ai",
   "language": "python",
   "name": "python3"
  },
  "language_info": {
   "codemirror_mode": {
    "name": "ipython",
    "version": 3
   },
   "file_extension": ".py",
   "mimetype": "text/x-python",
   "name": "python",
   "nbconvert_exporter": "python",
   "pygments_lexer": "ipython3",
   "version": "3.11.12"
  }
 },
 "nbformat": 4,
 "nbformat_minor": 5
}
