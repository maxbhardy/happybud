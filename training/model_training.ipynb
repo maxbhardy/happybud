{
 "cells": [
  {
   "cell_type": "markdown",
   "metadata": {},
   "source": [
    "# Entraînement des modèles de classification"
   ]
  },
  {
   "cell_type": "markdown",
   "metadata": {},
   "source": [
    "## 1 - Manipulation et preprocessing des données"
   ]
  },
  {
   "cell_type": "markdown",
   "metadata": {},
   "source": [
    "On définit une classe pour manipuler le dataset d'images de HappyBud."
   ]
  },
  {
   "cell_type": "code",
   "execution_count": null,
   "metadata": {},
   "outputs": [],
   "source": [
    "import torch\n",
    "import pandas as pd\n",
    "from torch.utils.data import Dataset, DataLoader\n",
    "from torchvision.transforms import v2 as transforms_v2\n",
    "from PIL import Image\n",
    "import pathlib\n",
    "\n",
    "\n",
    "class HappyBudDataset(torch.utils.data.Dataset):\n",
    "    def __init__(self, csv_file, root_dir, subset=\"train\", transform=None):\n",
    "        \"\"\"\n",
    "        Args:\n",
    "            csv_file (str): Path to the CSV file.\n",
    "            root_dir (str): Root directory containing train, val, and test folders.\n",
    "            subset (str): One of 'train', 'val', or 'test'.\n",
    "            transform (callable, optional): Transformations to apply to images.\n",
    "        \"\"\"\n",
    "        self.df = pd.read_csv(\n",
    "            csv_file,\n",
    "            index_col=0,\n",
    "            dtype={\n",
    "                \"filename\": str,\n",
    "                \"source\": \"category\",\n",
    "                \"subset\": \"category\",\n",
    "                \"class\": \"category\",\n",
    "            },\n",
    "        )\n",
    "\n",
    "        # Filter dataset based on 'train', 'val', or 'test'\n",
    "        self.df = self.df[self.df[\"subset\"] == subset]\n",
    "\n",
    "        # One-hot encoding of labels\n",
    "        self.labels = pd.get_dummies(self.df[\"class\"])\n",
    "\n",
    "        self.root_dir = pathlib.Path(root_dir)\n",
    "        self.transform = transform\n",
    "\n",
    "    def __len__(self):\n",
    "        return len(self.df)\n",
    "\n",
    "    def __getitem__(self, idx):\n",
    "        # Get image path\n",
    "        img_name = self.df[\"filename\"].iloc[idx]\n",
    "        img_path = self.root_dir / img_name\n",
    "\n",
    "        # Load image\n",
    "        image = Image.open(img_path).convert(\"RGB\")\n",
    "\n",
    "        # Apply transformations\n",
    "        if self.transform:\n",
    "            image = self.transform(image)\n",
    "\n",
    "        # Load labels (convert to tensor)\n",
    "        labels = torch.tensor(self.labels.iloc[idx].values, dtype=torch.float32)\n",
    "\n",
    "        return image, labels\n",
    "\n",
    "\n",
    "# Define transformations\n",
    "transform = transforms_v2.Compose(\n",
    "    [\n",
    "        transforms_v2.ToImage(),  # Convert to image tensor\n",
    "        transforms_v2.ToDtype(torch.float32, scale=True),  # Convert dtype to float32\n",
    "        transforms_v2.Resize((224, 224)),  # Resize images to match model input\n",
    "    ]\n",
    ")\n",
    "\n",
    "# Create dataset\n",
    "csv_path = \"dataset/tomato_dataset_clean_split.csv\"\n",
    "root_dir = \"dataset/tomato/\"\n",
    "\n",
    "train_dataset = HappyBudDataset(csv_path, root_dir, subset=\"train\", transform=transform)\n",
    "\n",
    "# Create DataLoader\n",
    "train_loader = torch.utils.data.DataLoader(train_dataset, batch_size=32, shuffle=True)\n",
    "\n",
    "# Test the dataset\n",
    "for images, labels in train_loader:\n",
    "    print(images.shape)  # Should be (batch_size, 3, 224, 224)\n",
    "    print(labels.shape)  # Should be (batch_size, num_classes)\n",
    "    break"
   ]
  },
  {
   "cell_type": "markdown",
   "metadata": {},
   "source": [
    "On définit un pipeline pour l'entraînement des données. Ce pipeline se base sur cette\n",
    "[page](https://pytorch.org/vision/stable/auto_examples/transforms/plot_transforms_getting_started.html)\n",
    "qui définit les bonnes pratiques pour différentes tâches de vision. On se base aussi en\n",
    "partie sur le [pipeline](https://pytorch.org/vision/stable/models/generated/torchvision.models.vit_b_16.html#torchvision.models.ViT_B_16_Weights)\n",
    "qui a été utilisé pour entraîner le modèle sur ImageNet1K.\n",
    "\n",
    "Voici les étapes du pipeline:\n",
    "- Conversion en tenseur\n",
    "- Changement du type de données pour float32\n",
    "- Redimensionnement en images 256x256 (légèrement plus gros que l'entrée)\n",
    "- Rotation aléatoire\n",
    "- Réflexion horizontale aléatoire\n",
    "- Recadrage (crop) aléatoire en 224x224\n",
    "- Normalisation selon la moyenne et l'écart type de ImageNet1K"
   ]
  },
  {
   "cell_type": "code",
   "execution_count": null,
   "metadata": {},
   "outputs": [],
   "source": [
    "# Training pipeline\n",
    "transformations = [\n",
    "    # Conversion to float32 image tensor\n",
    "    transforms_v2.ToImage(),\n",
    "    transforms_v2.ToDtype(torch.float32, scale=True),\n",
    "    # Data augmentation\n",
    "    transforms_v2.Resize((256, 256), antialias=True),\n",
    "    transforms_v2.RandomHorizontalFlip(p=0.5),\n",
    "    transforms_v2.RandomRotation(\n",
    "        degrees=(0, 360)\n",
    "    ),  # , interpolation=transforms_v2.InterpolationMode.BILINEAR),\n",
    "    transforms_v2.RandomCrop(size=(224, 224)),\n",
    "    # Normalization for ViT, valeurs de ImageNet1K\n",
    "    transforms_v2.Normalize(mean=[0.485, 0.456, 0.406], std=[0.229, 0.224, 0.225]),\n",
    "]\n",
    "\n",
    "training_pipeline = transforms_v2.Compose(transformations)\n",
    "\n",
    "# Pour l'affichage des images, on ne doit pas normaliser\n",
    "dummy_pipeline = transforms_v2.Compose(transformations[:-1])"
   ]
  },
  {
   "cell_type": "markdown",
   "metadata": {},
   "source": [
    "Visualisation des images après les transformations."
   ]
  },
  {
   "cell_type": "code",
   "execution_count": null,
   "metadata": {},
   "outputs": [],
   "source": [
    "# Visualisation de quelques images après passage du pipeline\n",
    "import matplotlib.pyplot as plt\n",
    "\n",
    "dummy_train_dataset = HappyBudDataset(\n",
    "    csv_path, root_dir, subset=\"train\", transform=dummy_pipeline\n",
    ")\n",
    "dummy_train_loader = DataLoader(dummy_train_dataset, batch_size=16, shuffle=True)\n",
    "\n",
    "images, labels = next(iter(dummy_train_loader))\n",
    "\n",
    "fig, axes = plt.subplots(4, 4, figsize=(10, 10))\n",
    "\n",
    "for i, image in enumerate(images):\n",
    "    ax = axes.flatten()[i]\n",
    "    ax.imshow(image.moveaxis(0, -1))\n",
    "    ax.xaxis.set_ticks([])\n",
    "    ax.yaxis.set_ticks([])"
   ]
  },
  {
   "cell_type": "markdown",
   "metadata": {},
   "source": [
    "## 2 - Entraînement du modèle"
   ]
  },
  {
   "cell_type": "code",
   "execution_count": null,
   "metadata": {},
   "outputs": [],
   "source": [
    "import torch\n",
    "import torch.nn as nn\n",
    "import torchvision.transforms as transforms\n",
    "\n",
    "# import timm\n",
    "from torchvision.models import vit_b_16"
   ]
  },
  {
   "cell_type": "code",
   "execution_count": null,
   "metadata": {},
   "outputs": [],
   "source": [
    "# Create dataset\n",
    "csv_path = \"dataset/tomato_dataset_clean_split.csv\"\n",
    "root_dir = \"dataset/tomato/\"\n",
    "\n",
    "# Load datasets\n",
    "train_dataset = HappyBudDataset(\n",
    "    csv_file=csv_path, root_dir=root_dir, subset=\"train\", transform=training_pipeline\n",
    ")\n",
    "test_dataset = HappyBudDataset(\n",
    "    csv_file=csv_path, root_dir=root_dir, subset=\"test\", transform=training_pipeline\n",
    ")\n",
    "\n",
    "# Data loaders\n",
    "train_loader = DataLoader(train_dataset, batch_size=32, shuffle=True)\n",
    "test_loader = DataLoader(test_dataset, batch_size=32, shuffle=False)"
   ]
  },
  {
   "cell_type": "code",
   "execution_count": null,
   "metadata": {},
   "outputs": [],
   "source": [
    "# Load pretrained ViT\n",
    "num_labels = len(train_dataset.labels.columns)  # Get number of labels (e.g., 8)\n",
    "\n",
    "model = vit_b_16(weights=\"IMAGENET1K_V1\")  # Load a pretrained model\n",
    "model.heads.head = nn.Linear(\n",
    "    model.heads.head.in_features, num_labels\n",
    ")  # Modify last layer"
   ]
  },
  {
   "cell_type": "code",
   "execution_count": null,
   "metadata": {},
   "outputs": [],
   "source": [
    "# Move model to GPU if available\n",
    "device = torch.device(\"cuda\" if torch.cuda.is_available() else \"cpu\")\n",
    "model.to(device)\n",
    "print(device)\n",
    "\n",
    "# Loss function & optimizer\n",
    "criterion = nn.CrossEntropyLoss()\n",
    "optimizer = torch.optim.Adam(model.parameters(), lr=0.0001)"
   ]
  },
  {
   "cell_type": "code",
   "execution_count": null,
   "metadata": {},
   "outputs": [],
   "source": [
    "# Training function\n",
    "def train_model(model, train_loader, criterion, optimizer, epochs=10):\n",
    "    for epoch in range(epochs):\n",
    "        model.train()\n",
    "        train_loss = 0.0\n",
    "        correct = 0.0\n",
    "\n",
    "        for images, labels in train_loader:\n",
    "            # Compute loss\n",
    "            images, labels = images.to(device), labels.to(device)\n",
    "\n",
    "            optimizer.zero_grad()\n",
    "            outputs = model(images)  # Logits\n",
    "            loss = criterion(outputs, labels)  # Compute loss\n",
    "            loss.backward()\n",
    "            optimizer.step()\n",
    "\n",
    "            train_loss += loss.item()\n",
    "\n",
    "            # Compute number of correct images\n",
    "            prediction = torch.argmax(outputs, axis=1)\n",
    "            label = torch.argmax(labels, axis=1)\n",
    "            correct += (prediction == label).sum()\n",
    "\n",
    "        avg_train_loss = train_loss / len(train_loader)\n",
    "        train_accuracy = correct / len(train_loader.dataset)\n",
    "\n",
    "        print(\n",
    "            f\"Epoch [{epoch+1}/{epochs}] | Train Loss: {avg_train_loss:.4f} | Train Accuracy: {train_accuracy:.4f}\"\n",
    "        )\n",
    "\n",
    "\n",
    "# Train for 10 epochs\n",
    "train_model(model, train_loader, criterion, optimizer, epochs=10)"
   ]
  },
  {
   "cell_type": "code",
   "execution_count": null,
   "metadata": {},
   "outputs": [],
   "source": [
    "# Save model\n",
    "torch.save(model.state_dict(), \"models/tomato_model_2025_02_28_v2.pt\")"
   ]
  },
  {
   "cell_type": "markdown",
   "metadata": {},
   "source": [
    "## 3 - Validation du modèle sur les données de test"
   ]
  },
  {
   "cell_type": "code",
   "execution_count": null,
   "metadata": {},
   "outputs": [],
   "source": [
    "# Load fine-tuned ViT\n",
    "device = torch.device(\"cuda\" if torch.cuda.is_available() else \"cpu\")\n",
    "num_labels = len(test_dataset.labels.columns)  # Get number of labels (e.g., 8)\n",
    "\n",
    "model = vit_b_16()\n",
    "model.heads.head = nn.Linear(\n",
    "    model.heads.head.in_features, num_labels\n",
    ")  # Modify last layer\n",
    "\n",
    "model.load_state_dict(\n",
    "    torch.load(\n",
    "        \"models/tomato_model_2025_02_28_v2.pt\",\n",
    "        map_location=device,\n",
    "        weights_only=True,\n",
    "    )\n",
    ")"
   ]
  },
  {
   "cell_type": "code",
   "execution_count": null,
   "metadata": {},
   "outputs": [],
   "source": [
    "import numpy as np\n",
    "\n",
    "\n",
    "def evaluate_model(model, test_loader, device):\n",
    "    model.eval()  # Set to evaluation mode\n",
    "    all_labels = []\n",
    "    all_preds = []\n",
    "\n",
    "    with torch.no_grad():  # No gradients needed\n",
    "        for images, labels in test_loader:\n",
    "            images = images.to(device)\n",
    "            labels = labels.to(device)\n",
    "\n",
    "            outputs = model(images)\n",
    "            preds = torch.argmax(outputs, axis=1)\n",
    "            labels = torch.argmax(labels, axis=1)\n",
    "\n",
    "            all_labels.append(labels.cpu().numpy())  # Store true labels\n",
    "            all_preds.append(preds.cpu().numpy())  # Store predictions\n",
    "\n",
    "    # Convert lists to numpy arrays\n",
    "    all_labels = np.concatenate(all_labels, axis=0)\n",
    "    all_preds = np.concatenate(all_preds, axis=0)\n",
    "\n",
    "    return all_labels, all_preds"
   ]
  },
  {
   "cell_type": "code",
   "execution_count": null,
   "metadata": {},
   "outputs": [],
   "source": [
    "# Evaluate model\n",
    "labels, preds = evaluate_model(model, test_loader, device)"
   ]
  },
  {
   "cell_type": "code",
   "execution_count": null,
   "metadata": {},
   "outputs": [],
   "source": [
    "# Accuracy sur les données de test\n",
    "(labels == preds).sum() / len(labels)"
   ]
  },
  {
   "cell_type": "code",
   "execution_count": null,
   "metadata": {},
   "outputs": [],
   "source": [
    "# Copy predictions into dataframe\n",
    "test_results = test_dataset.df.copy()\n",
    "assert np.all(test_results[\"class\"].cat.codes == labels)\n",
    "\n",
    "classes = np.array(test_dataset.labels.columns)\n",
    "\n",
    "test_results[\"pred\"] = pd.Series(\n",
    "    pd.Categorical(\n",
    "        classes[preds],\n",
    "        categories=classes,\n",
    "    ),\n",
    "    index=test_results.index,\n",
    ")\n",
    "\n",
    "test_results.to_csv(\"results/tomato_model_2025_02_28_v2.csv\")"
   ]
  }
 ],
 "metadata": {
  "kernelspec": {
   "display_name": "ai",
   "language": "python",
   "name": "python3"
  },
  "language_info": {
   "codemirror_mode": {
    "name": "ipython",
    "version": 3
   },
   "file_extension": ".py",
   "mimetype": "text/x-python",
   "name": "python",
   "nbconvert_exporter": "python",
   "pygments_lexer": "ipython3",
   "version": "3.11.11"
  }
 },
 "nbformat": 4,
 "nbformat_minor": 2
}
